{
 "cells": [
  {
   "cell_type": "code",
   "execution_count": 2,
   "metadata": {},
   "outputs": [],
   "source": [
    "import numpy as np\n",
    "import pandas as pd\n",
    "import xgboost as xb\n",
    "import matplotlib.pyplot as plt\n",
    "%matplotlib inline"
   ]
  },
  {
   "cell_type": "code",
   "execution_count": 3,
   "metadata": {},
   "outputs": [],
   "source": [
    "from sklearn.datasets import load_boston"
   ]
  },
  {
   "cell_type": "code",
   "execution_count": 4,
   "metadata": {},
   "outputs": [],
   "source": [
    "data = load_boston()\n",
    "X = data.data\n",
    "y = data.target\n",
    "cols = data.feature_names"
   ]
  },
  {
   "cell_type": "markdown",
   "metadata": {},
   "source": [
    "# Split data in test & train"
   ]
  },
  {
   "cell_type": "code",
   "execution_count": 5,
   "metadata": {},
   "outputs": [],
   "source": [
    "from sklearn.model_selection import train_test_split\n",
    "trainX, testX, trainY, testY = train_test_split(X,y)\n",
    "\n",
    "dTrainMatrix = xb.DMatrix(trainX, trainY)\n",
    "dTestMatrix = xb.DMatrix(testX, testY)"
   ]
  },
  {
   "cell_type": "markdown",
   "metadata": {},
   "source": [
    "# Train the Model and Predict"
   ]
  },
  {
   "cell_type": "code",
   "execution_count": 6,
   "metadata": {},
   "outputs": [],
   "source": [
    "params = {\"learning_rate\":\"0.9\", \"objective\":\"reg:linear\",\"n_estimators\":\"10\"}\n",
    "xb_reg_cl = xb.train(params=params, dtrain=dTrainMatrix)\n",
    "predictedY = xb_reg_cl.predict(data=dTestMatrix)"
   ]
  },
  {
   "cell_type": "markdown",
   "metadata": {},
   "source": [
    "# Calculate RMSE"
   ]
  },
  {
   "cell_type": "code",
   "execution_count": 7,
   "metadata": {},
   "outputs": [
    {
     "name": "stdout",
     "output_type": "stream",
     "text": [
      "3.951757692001573\n"
     ]
    }
   ],
   "source": [
    "from sklearn.metrics import mean_squared_error\n",
    "rmse = np.sqrt(mean_squared_error(testY, predictedY))\n",
    "print (rmse)"
   ]
  },
  {
   "cell_type": "markdown",
   "metadata": {},
   "source": [
    "# Tune Regularisation parameters \n",
    "## Trying L1 regularisation\n",
    "\n",
    "\t- xgboost.cv() would train the model but it does not return the model. It is typically used to find the righ parameters and once those are known we can do regular xgboost.train() and xgboost.predict()"
   ]
  },
  {
   "cell_type": "code",
   "execution_count": 11,
   "metadata": {},
   "outputs": [
    {
     "name": "stdout",
     "output_type": "stream",
     "text": [
      "[0.7780018196391573, 1.0095510916079484, 0.9413793071226924, 1.6799027036935918]\n"
     ]
    }
   ],
   "source": [
    "dTrainMatrix = xb.DMatrix(trainX, trainY)\n",
    "dTestMatrix = xb.DMatrix(testX, testY)\n",
    "\n",
    "params = {\"learning_rate\":\"0.9\", \"objective\":\"reg:linear\",\"n_estimators\":\"10\"}\n",
    "\n",
    "l1_params = [1,10,100,1000]\n",
    "rmse = []\n",
    "for l1 in l1_params:\n",
    "    params['alpha']=l1\n",
    "    cv_results = xb.cv(params=params, dtrain=dTrainMatrix, num_boost_round=5, nfold=5, metrics='rmse', as_pandas=True)\n",
    "    rmse.append(cv_results['test-rmse-std'][4])\n",
    "\n",
    "print (rmse)\n",
    "\n",
    "# We see that the RMSE is least when Alpha is 1, so we can use that value\n"
   ]
  },
  {
   "cell_type": "code",
   "execution_count": 12,
   "metadata": {},
   "outputs": [
    {
     "name": "stdout",
     "output_type": "stream",
     "text": [
      "4.515664951893516\n"
     ]
    }
   ],
   "source": [
    "params = {\"learning_rate\":\"0.9\", \"objective\":\"reg:linear\",\"n_estimators\":\"10\",\"alpha\":\"1\"}\n",
    "model = xb.train(params=params, dtrain=dTrainMatrix, num_boost_round=5)\n",
    "predictedY = model.predict(data=dTestMatrix)\n",
    "\n",
    "rmse = np.sqrt(mean_squared_error(testY, predictedY))\n",
    "print (rmse)"
   ]
  },
  {
   "cell_type": "markdown",
   "metadata": {},
   "source": [
    "# Plot Feature Importance"
   ]
  },
  {
   "cell_type": "code",
   "execution_count": 13,
   "metadata": {},
   "outputs": [
    {
     "data": {
      "text/plain": [
       "<matplotlib.axes._subplots.AxesSubplot at 0x17eb0c05eb8>"
      ]
     },
     "execution_count": 13,
     "metadata": {},
     "output_type": "execute_result"
    },
    {
     "data": {
      "image/png": "[encoded data removed]",
      "text/plain": [
       "<Figure size 432x288 with 1 Axes>"
      ]
     },
     "metadata": {
      "needs_background": "light"
     },
     "output_type": "display_data"
    }
   ],
   "source": [
    "xb.plot_importance(model)"
   ]
  },
  {
   "cell_type": "code",
   "execution_count": null,
   "metadata": {},
   "outputs": [],
   "source": []
  }
 ],
 "metadata": {
  "kernelspec": {
   "display_name": "Python 3",
   "language": "python",
   "name": "python3"
  },
  "language_info": {
   "codemirror_mode": {
    "name": "ipython",
    "version": 3
   },
   "file_extension": ".py",
   "mimetype": "text/x-python",
   "name": "python",
   "nbconvert_exporter": "python",
   "pygments_lexer": "ipython3",
   "version": "3.7.3"
  }
 },
 "nbformat": 4,
 "nbformat_minor": 2
}
