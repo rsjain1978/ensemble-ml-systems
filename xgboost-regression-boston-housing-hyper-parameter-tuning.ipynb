{
 "cells": [
  {
   "cell_type": "code",
   "execution_count": 2,
   "metadata": {},
   "outputs": [],
   "source": [
    "import numpy as np\n",
    "import pandas as pd\n",
    "import xgboost as xb\n",
    "import matplotlib.pyplot as plt\n",
    "%matplotlib inline\n",
    "\n",
    "from sklearn.datasets import load_boston\n",
    "from sklearn.metrics import mean_squared_error\n",
    "from sklearn.model_selection import train_test_split"
   ]
  },
  {
   "cell_type": "code",
   "execution_count": 3,
   "metadata": {},
   "outputs": [],
   "source": [
    "data = load_boston()\n",
    "X = data.data\n",
    "y = data.target\n",
    "columns = data.feature_names"
   ]
  },
  {
   "cell_type": "code",
   "execution_count": 4,
   "metadata": {},
   "outputs": [],
   "source": [
    "trainX, testX, trainY, testY = train_test_split(X,y)\n",
    "dTrainMatrix = xb.DMatrix(trainX, trainY)\n",
    "dTextMatrix = xb.DMatrix(testX, testY)"
   ]
  },
  {
   "cell_type": "markdown",
   "metadata": {},
   "source": [
    "# Run 1 - Baseline numbers without any model tuning"
   ]
  },
  {
   "cell_type": "code",
   "execution_count": 32,
   "metadata": {},
   "outputs": [
    {
     "name": "stdout",
     "output_type": "stream",
     "text": [
      "0.3404362544993636\n"
     ]
    }
   ],
   "source": [
    "untunedParams = {\"objective\":\"reg:linear\",\"num_boost_round\":\"5\",\"nfold\":\"3\"}\n",
    "cv_result = xb.cv(params=untunedParams, dtrain=dTrainMatrix, metrics='mae', as_pandas=True)\n",
    "print (cv_result['test-mae-std'][4])"
   ]
  },
  {
   "cell_type": "markdown",
   "metadata": {},
   "source": [
    "# Run 2 - Basic Model Tuning\n",
    "    - In this run we would try our algorithm with different number of boosting rounds and find an optimal value\n",
    "    - After running the code we see that the RMSE starts getting flat around 20 boosting rounds\n",
    "    - So by simply changing the boosting rounds we have been able to bring down the RMSE metric"
   ]
  },
  {
   "cell_type": "code",
   "execution_count": 33,
   "metadata": {},
   "outputs": [
    {
     "name": "stdout",
     "output_type": "stream",
     "text": [
      "   Boosting Rounds       MAE\n",
      "0                3  0.413893\n",
      "1                5  0.340436\n",
      "2                7  0.253658\n",
      "3                9  0.186035\n",
      "4               15  0.183521\n",
      "5               20  0.199554\n",
      "6               25  0.201904\n",
      "7               30  0.203939\n"
     ]
    }
   ],
   "source": [
    "boosting_rounds = [3,5,7,9,15,20,25,30]\n",
    "untunedParams = {\"objective\":\"reg:linear\",\"nfold\":\"3\"}\n",
    "metric_values = []\n",
    "\n",
    "for rounds in boosting_rounds:\n",
    "    cv_result = xb.cv(params=untunedParams, dtrain=dTrainMatrix, metrics='mae', num_boost_round=rounds, as_pandas=True)\n",
    "    metric_values.append(cv_result['test-mae-std'].tail().values[-1])\n",
    "    \n",
    "df = pd.DataFrame(data=list(zip(boosting_rounds, metric_values)), columns=['Boosting Rounds','MAE'])\n",
    "print (df)"
   ]
  },
  {
   "cell_type": "markdown",
   "metadata": {},
   "source": [
    "# Run 3 - Hyper Parameter tuning with GridSearchCV\n",
    "    \n",
    "    - GridSearchCV is like a brute force attack where all possible combinations of hyper parameters are evaluared.\n",
    "    - Logic wise it works as follows:\n",
    "        - Create a dictionary of fixed params; those params which would not change during the tuning exercise\n",
    "        - Create a dictionary of variable params; those params which we want to evaluate\n",
    "        - Create GridSearchCV() and pass in the following:\n",
    "            - XGBClassifier or XGBRegressor ; in this we pass the fixed params\n",
    "            - variable params\n",
    "            - cv or cross validation count\n",
    "            - scoring (scoring approach depends on Regression or Classification problem)\n",
    "            \n",
    "     - On this datasetp trying to tune the hyper parameters does not reduce MAE any further, instead it's increased !!!\n",
    "     - Useful link\n",
    "         - See https://scikit-learn.org/stable/modules/model_evaluation.html for scoring options"
   ]
  },
  {
   "cell_type": "code",
   "execution_count": 8,
   "metadata": {},
   "outputs": [],
   "source": [
    "from sklearn.model_selection import GridSearchCV\n",
    "from xgboost import XGBRegressor\n",
    "from sklearn.model_selection import StratifiedKFold"
   ]
  },
  {
   "cell_type": "code",
   "execution_count": 35,
   "metadata": {},
   "outputs": [
    {
     "name": "stdout",
     "output_type": "stream",
     "text": [
      "Best parameters are  {'max_depth': 11, 'n_estimators': 45, 'n_fold': 2, 'num_boost_round': 10}\n",
      "Best score is  3.463954346170538\n"
     ]
    },
    {
     "name": "stderr",
     "output_type": "stream",
     "text": [
      "C:\\MachineLearning\\anaconda\\lib\\site-packages\\sklearn\\model_selection\\_search.py:841: DeprecationWarning: The default of the `iid` parameter will change from True to False in version 0.22 and will be removed in 0.24. This will change numeric results when test-set sizes are unequal.\n",
      "  DeprecationWarning)\n"
     ]
    }
   ],
   "source": [
    "fixed_params = {\"objective\":\"reg:linear\"}\n",
    "variable_params = {\n",
    "    \"max_depth\":np.arange(1,20,5),\n",
    "    #\"learning_rate\":np.arange(0.1,0.4,0.1),\n",
    "    \"n_estimators\":np.arange(5,50,10),\n",
    "    #\"alpha\":np.arange(0.1,0.5,0.1),\n",
    "    \"num_boost_round\":np.arange(10,40,10),\n",
    "    \"n_fold\":np.arange(2,10,1)\n",
    "}\n",
    "\n",
    "gs_cv = GridSearchCV(XGBRegressor(**fixed_params), variable_params, cv=3, scoring='neg_mean_absolute_error')\n",
    "gs_cv.fit(X,y)\n",
    "\n",
    "print ('Best parameters are ', gs_cv.best_params_)\n",
    "print ('Best score is ', np.abs(gs_cv.best_score_))"
   ]
  },
  {
   "cell_type": "code",
   "execution_count": 38,
   "metadata": {},
   "outputs": [
    {
     "name": "stdout",
     "output_type": "stream",
     "text": [
      "Evaluated params grid is \n",
      " {'max_depth': array([ 1,  6, 11, 16]), 'n_estimators': array([ 5, 15, 25, 35, 45]), 'num_boost_round': array([10, 20, 30]), 'n_fold': array([2, 3, 4, 5, 6, 7, 8, 9])}\n",
      "\n",
      "\n",
      "Best model definition is \n",
      " XGBRegressor(base_score=0.5, booster='gbtree', colsample_bylevel=1,\n",
      "       colsample_bytree=1, gamma=0, importance_type='gain',\n",
      "       learning_rate=0.1, max_delta_step=0, max_depth=11,\n",
      "       min_child_weight=1, missing=None, n_estimators=45, n_fold=2,\n",
      "       n_jobs=1, nthread=None, num_boost_round=10, objective='reg:linear',\n",
      "       random_state=0, reg_alpha=0, reg_lambda=1, scale_pos_weight=1,\n",
      "       seed=None, silent=True, subsample=1)\n"
     ]
    }
   ],
   "source": [
    "print ('Evaluated params grid is \\n', gs_cv.param_grid)\n",
    "print ('\\n\\nBest model definition is \\n', gs_cv.best_estimator_)"
   ]
  },
  {
   "cell_type": "markdown",
   "metadata": {},
   "source": [
    "# Run 3 - Hyper Parameter tuning with RandomSearchCV\n",
    "\n",
    "    - RandomSearchCV extends the functionality of GridSearchCV\n",
    "    - Just like in GridSearchCV we define the hyperparameters we want to tune, however unlike GridSearchCV, in RandomSearchCV we specify the number of iterations we want to evaluate - say n.\n",
    "    - So out of total parameter combinations 'n' combinations would be randomly drawn and the model would be evaluated on that."
   ]
  },
  {
   "cell_type": "markdown",
   "metadata": {},
   "source": [
    "# Run 4 - Impact of Number of Threads and Model Training Time\n",
    "\n",
    "    - Here we will find relationship b/w the time it takes to train the model and the number of threads used for tree creation\n",
    "    - From results we see that while running with 3 threads we get good result on this data set"
   ]
  },
  {
   "cell_type": "code",
   "execution_count": 37,
   "metadata": {},
   "outputs": [
    {
     "data": {
      "image/png": "[encoded data removed]",
      "text/plain": [
       "<Figure size 432x288 with 1 Axes>"
      ]
     },
     "metadata": {
      "needs_background": "light"
     },
     "output_type": "display_data"
    }
   ],
   "source": [
    "from time import time\n",
    "\n",
    "#Specify number of threads as many cores you have on your machine\n",
    "num_threads = [1,2,3,4,5,6]\n",
    "\n",
    "time_taken = []\n",
    "for thread in num_threads:\n",
    "    start = time()\n",
    "    xgb_reg = xb.XGBRegressor(max_depth=11, learning_rate=0.2, subsample=0.5, objective='reg:linear', n_estimators=10, reg_alpha=0.7, nthread=thread)\n",
    "    model = xgb_reg.fit(X,y)\n",
    "    end=time()\n",
    "    time_taken.append(end-start)\n",
    "    \n",
    "plt.plot(num_threads, time_taken)\n",
    "plt.xlabel('Number of Threads')\n",
    "plt.ylabel('Time taken')\n",
    "plt.show()"
   ]
  },
  {
   "cell_type": "code",
   "execution_count": null,
   "metadata": {},
   "outputs": [],
   "source": []
  }
 ],
 "metadata": {
  "kernelspec": {
   "display_name": "Python 3",
   "language": "python",
   "name": "python3"
  },
  "language_info": {
   "codemirror_mode": {
    "name": "ipython",
    "version": 3
   },
   "file_extension": ".py",
   "mimetype": "text/x-python",
   "name": "python",
   "nbconvert_exporter": "python",
   "pygments_lexer": "ipython3",
   "version": "3.7.3"
  }
 },
 "nbformat": 4,
 "nbformat_minor": 2
}
