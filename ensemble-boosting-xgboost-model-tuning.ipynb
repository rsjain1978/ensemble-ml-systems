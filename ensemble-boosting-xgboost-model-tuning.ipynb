{
 "cells": [
  {
   "cell_type": "code",
   "execution_count": 1,
   "metadata": {},
   "outputs": [],
   "source": [
    "import numpy as np\n",
    "import pandas as pd\n",
    "import xgboost as xb\n",
    "import matplotlib.pyplot as plt\n",
    "\n",
    "from sklearn.datasets import load_boston\n",
    "from sklearn.metrics import mean_squared_error\n",
    "from sklearn.model_selection import train_test_split\n",
    "\n",
    "%matplotlib inline"
   ]
  },
  {
   "cell_type": "code",
   "execution_count": 2,
   "metadata": {},
   "outputs": [],
   "source": [
    "data = load_boston()\n",
    "X = data.data\n",
    "y = data.target\n",
    "cols = data.feature_names"
   ]
  },
  {
   "cell_type": "code",
   "execution_count": 3,
   "metadata": {},
   "outputs": [],
   "source": [
    "trainX, testX, trainY, testY = train_test_split(X,y)"
   ]
  },
  {
   "cell_type": "code",
   "execution_count": 4,
   "metadata": {},
   "outputs": [],
   "source": [
    "dTrainMatrix = xb.DMatrix(trainX, trainX)\n",
    "dTestMatrix = xb.DMatrix(testX, testY)"
   ]
  },
  {
   "cell_type": "code",
   "execution_count": 5,
   "metadata": {},
   "outputs": [
    {
     "name": "stdout",
     "output_type": "stream",
     "text": [
      "10.820280981809328\n"
     ]
    }
   ],
   "source": [
    "untuned_params = {\"objective\":\"reg:linear\"}\n",
    "cv_results = xb.cv(params=untuned_params, dtrain=dTrainMatrix, metrics=\"rmse\", num_boost_round=5, nfold=3, as_pandas=True)\n",
    "print (cv_results['test-rmse-std'][4])"
   ]
  },
  {
   "cell_type": "markdown",
   "metadata": {},
   "source": [
    "# Try Basic Model Tuning\n",
    "\n",
    "    - In this approach we simply create a for loop and for different values of boosting_rounds we find the RMSE.\n",
    "    - Depending on which value of boosting round gives us the best RMSE we can choose that as final parameter\n",
    "    - We can also think of multiple for loops (a for loop within a for loop) to test combination of parameters"
   ]
  },
  {
   "cell_type": "code",
   "execution_count": 6,
   "metadata": {},
   "outputs": [
    {
     "data": {
      "text/html": [
       "<div>\n",
       "<style scoped>\n",
       "    .dataframe tbody tr th:only-of-type {\n",
       "        vertical-align: middle;\n",
       "    }\n",
       "\n",
       "    .dataframe tbody tr th {\n",
       "        vertical-align: top;\n",
       "    }\n",
       "\n",
       "    .dataframe thead th {\n",
       "        text-align: right;\n",
       "    }\n",
       "</style>\n",
       "<table border=\"1\" class=\"dataframe\">\n",
       "  <thead>\n",
       "    <tr style=\"text-align: right;\">\n",
       "      <th></th>\n",
       "      <th>Boosting Rounds</th>\n",
       "      <th>RMSE</th>\n",
       "    </tr>\n",
       "  </thead>\n",
       "  <tbody>\n",
       "    <tr>\n",
       "      <th>0</th>\n",
       "      <td>3</td>\n",
       "      <td>9.631885</td>\n",
       "    </tr>\n",
       "    <tr>\n",
       "      <th>1</th>\n",
       "      <td>5</td>\n",
       "      <td>10.820281</td>\n",
       "    </tr>\n",
       "    <tr>\n",
       "      <th>2</th>\n",
       "      <td>11</td>\n",
       "      <td>10.409649</td>\n",
       "    </tr>\n",
       "    <tr>\n",
       "      <th>3</th>\n",
       "      <td>15</td>\n",
       "      <td>8.893266</td>\n",
       "    </tr>\n",
       "    <tr>\n",
       "      <th>4</th>\n",
       "      <td>20</td>\n",
       "      <td>8.893266</td>\n",
       "    </tr>\n",
       "    <tr>\n",
       "      <th>5</th>\n",
       "      <td>30</td>\n",
       "      <td>8.893266</td>\n",
       "    </tr>\n",
       "    <tr>\n",
       "      <th>6</th>\n",
       "      <td>50</td>\n",
       "      <td>8.893266</td>\n",
       "    </tr>\n",
       "  </tbody>\n",
       "</table>\n",
       "</div>"
      ],
      "text/plain": [
       "   Boosting Rounds       RMSE\n",
       "0                3   9.631885\n",
       "1                5  10.820281\n",
       "2               11  10.409649\n",
       "3               15   8.893266\n",
       "4               20   8.893266\n",
       "5               30   8.893266\n",
       "6               50   8.893266"
      ]
     },
     "execution_count": 6,
     "metadata": {},
     "output_type": "execute_result"
    }
   ],
   "source": [
    "boosting_rounds = [3,5,11,15,20,30,50]\n",
    "untuned_params = {\"objective\":\"reg:linear\"}\n",
    "\n",
    "metrics_vals = []\n",
    "for b_round in boosting_rounds:\n",
    "    cv_results = xb.cv(params=untuned_params, early_stopping_rounds=10, dtrain=dTrainMatrix, metrics=\"rmse\",num_boost_round=b_round, nfold=3, as_pandas=True)\n",
    "    metrics_vals.append(cv_results['test-rmse-std'].tail().values[-1])\n",
    "\n",
    "df = pd.DataFrame(list(zip(boosting_rounds, metrics_vals)), columns=['Boosting Rounds','RMSE'])\n",
    "df"
   ]
  },
  {
   "cell_type": "markdown",
   "metadata": {},
   "source": [
    "# Hyper parameter tuning using GridSearchCV\n",
    "\n",
    "    - GridSearchCV is like a brute force attack where all possible combinations of hyper parameters are evaluated. For e.g.\n",
    "    if there are 2 hp and each hp has 3 values and we have 4 folds (cross validation datasets) then GridSearchCV will try (2*3=6 models), 4 times\n",
    "    \n",
    "    - Code wise this works as follows:\n",
    "        - Create a dictionary of fixed_params ; those params which we are keeping as same\n",
    "        - Create a dictionary of variable_params\n",
    "        - Create GridSearchCV() object passing in the following:\n",
    "            - XGBClassifier or XGBRegressor; in this we pass the fixed params\n",
    "            - variable_params\n",
    "            - cv = 2/3/4/5/6 (Number of Folds or datasets)\n",
    "            - scoring = '' (scoring approach depending on Regression or Classification)"
   ]
  },
  {
   "cell_type": "code",
   "execution_count": 7,
   "metadata": {},
   "outputs": [],
   "source": [
    "from sklearn.model_selection import GridSearchCV\n",
    "from xgboost import XGBRegressor\n",
    "from sklearn.model_selection import StratifiedKFold"
   ]
  },
  {
   "cell_type": "code",
   "execution_count": 8,
   "metadata": {},
   "outputs": [],
   "source": [
    "data = load_boston()\n",
    "X = data.data\n",
    "y = data.target\n",
    "cols = data.feature_names"
   ]
  },
  {
   "cell_type": "code",
   "execution_count": 48,
   "metadata": {},
   "outputs": [
    {
     "name": "stderr",
     "output_type": "stream",
     "text": [
      "C:\\Users\\rahuljain08\\AppData\\Local\\Continuum\\anaconda3\\lib\\site-packages\\sklearn\\model_selection\\_search.py:841: DeprecationWarning: The default of the `iid` parameter will change from True to False in version 0.22 and will be removed in 0.24. This will change numeric results when test-set sizes are unequal.\n",
      "  DeprecationWarning)\n"
     ]
    },
    {
     "data": {
      "text/plain": [
       "GridSearchCV(cv=3, error_score='raise-deprecating',\n",
       "       estimator=XGBRegressor(base_score=0.5, booster='gbtree', colsample_bylevel=1,\n",
       "       colsample_bytree=1, gamma=0, importance_type='gain',\n",
       "       learning_rate=0.1, max_delta_step=0, max_depth=3,\n",
       "       min_child_weight=1, missing=None, n_estimators=100, n_jobs=1,\n",
       "       nthread=None, objective='reg:linear', random_state=0, reg_alpha=0,\n",
       "       reg_lambda=1, scale_pos_weight=1, seed=None, silent=True,\n",
       "       subsample=1),\n",
       "       fit_params=None, iid='warn', n_jobs=4,\n",
       "       param_grid={'max_depth': array([ 1,  6, 11, 16]), 'learning_rate': array([0.1, 0.2]), 'subsamples': array([0.1, 0.3, 0.5, 0.7]), 'alpha': array([0.1, 0.3, 0.5, 0.7]), 'num_boost_round': array([ 5, 10, 15])},\n",
       "       pre_dispatch='2*n_jobs', refit=True, return_train_score='warn',\n",
       "       scoring='neg_mean_squared_error', verbose=0)"
      ]
     },
     "execution_count": 48,
     "metadata": {},
     "output_type": "execute_result"
    }
   ],
   "source": [
    "fixed_params = {\"objective\":\"reg:linear\"}\n",
    "\n",
    "variable_params = {\"max_depth\":np.arange(1,20,5),\n",
    "                  \"learning_rate\":np.arange(0.1,0.3,0.1),\n",
    "                  \"subsamples\":np.arange(0.1,0.8,0.2),\n",
    "                  \"alpha\":np.arange(0.1,0.8,0.2),\n",
    "                  \"num_boost_round\":np.arange(5,20,5)}\n",
    "gs_cv = GridSearchCV(XGBRegressor(**fixed_params),variable_params,cv=3, n_jobs=4, scoring='neg_mean_squared_error')\n",
    "gs_cv.fit(X,y)"
   ]
  },
  {
   "cell_type": "code",
   "execution_count": 49,
   "metadata": {},
   "outputs": [
    {
     "name": "stdout",
     "output_type": "stream",
     "text": [
      "Best parameters found are: {'alpha': 0.1, 'learning_rate': 0.1, 'max_depth': 11, 'num_boost_round': 5, 'subsamples': 0.1}\n"
     ]
    }
   ],
   "source": [
    "print ('Best parameters found are:',gs_cv.best_params_)"
   ]
  },
  {
   "cell_type": "code",
   "execution_count": 50,
   "metadata": {},
   "outputs": [
    {
     "name": "stdout",
     "output_type": "stream",
     "text": [
      "Best score found is: 5.1046060530540585\n"
     ]
    }
   ],
   "source": [
    "print ('Best score found is:', np.sqrt(np.abs(gs_cv.best_score_)))"
   ]
  },
  {
   "cell_type": "code",
   "execution_count": 51,
   "metadata": {},
   "outputs": [],
   "source": [
    "pred_Y = gs_cv.predict(X)"
   ]
  },
  {
   "cell_type": "markdown",
   "metadata": {},
   "source": [
    "# Hyper parameter tuning using RandomSearchCV\n",
    "\n",
    "    - RandomSearchCV extends the functionality from GridSearchCV\n",
    "    - Just like in GridSearchCV we define the hyper-parameters we want to find, however unlike GridSearchCV, in RandomSearchCV we specify the number of iterations (or models) we want to evaluate. These models are then drawn from the combinations of different hyper-parameter values.\n",
    "    - To test the impact of number of threads (jobs) being used for cross validation we would iterate through an array with various values of n_jobs and record the time it takes to do CV. We then plot a graph for n_jobs and time_taken to see the visuals"
   ]
  },
  {
   "cell_type": "code",
   "execution_count": 13,
   "metadata": {},
   "outputs": [],
   "source": [
    "from sklearn.model_selection import RandomizedSearchCV"
   ]
  },
  {
   "cell_type": "code",
   "execution_count": 40,
   "metadata": {},
   "outputs": [],
   "source": [
    "fixed_params = { \"objective\":\"reg:linear\",\n",
    "                 \"scoring\":\"neg_mean_squared_error\"}\n",
    "variable_params = {\"max_depth\":np.arange(1,20,3),\n",
    "                  \"learning_rate\":np.arange(0.1,0.3,0.05),\n",
    "                  \"subsamples\":np.arange(0.1,0.9,0.1),\n",
    "                  \"alpha\":np.arange(0.1,0.9,0.1),\n",
    "                  \"n_iter\":[10,20,30,40,50],\n",
    "                  \"num_boost_round\":np.arange(5,25,5)}"
   ]
  },
  {
   "cell_type": "code",
   "execution_count": 53,
   "metadata": {},
   "outputs": [
    {
     "name": "stderr",
     "output_type": "stream",
     "text": [
      "C:\\Users\\rahuljain08\\AppData\\Local\\Continuum\\anaconda3\\lib\\site-packages\\sklearn\\model_selection\\_search.py:841: DeprecationWarning: The default of the `iid` parameter will change from True to False in version 0.22 and will be removed in 0.24. This will change numeric results when test-set sizes are unequal.\n",
      "  DeprecationWarning)\n",
      "C:\\Users\\rahuljain08\\AppData\\Local\\Continuum\\anaconda3\\lib\\site-packages\\sklearn\\model_selection\\_search.py:841: DeprecationWarning: The default of the `iid` parameter will change from True to False in version 0.22 and will be removed in 0.24. This will change numeric results when test-set sizes are unequal.\n",
      "  DeprecationWarning)\n",
      "C:\\Users\\rahuljain08\\AppData\\Local\\Continuum\\anaconda3\\lib\\site-packages\\sklearn\\model_selection\\_search.py:841: DeprecationWarning: The default of the `iid` parameter will change from True to False in version 0.22 and will be removed in 0.24. This will change numeric results when test-set sizes are unequal.\n",
      "  DeprecationWarning)\n"
     ]
    },
    {
     "data": {
      "text/plain": [
       "Text(0, 0.5, 'Time taken for CV(seconds)')"
      ]
     },
     "execution_count": 53,
     "metadata": {},
     "output_type": "execute_result"
    },
    {
     "data": {
      "image/png": "[encoded data removed]",
      "text/plain": [
       "<Figure size 432x288 with 1 Axes>"
      ]
     },
     "metadata": {
      "needs_background": "light"
     },
     "output_type": "display_data"
    }
   ],
   "source": [
    "from time import time\n",
    "\n",
    "jobs = [3,4,5]\n",
    "time_taken = []\n",
    "\n",
    "# To test the impact of number of threads (jobs) being used for cross validation we would iterate through an array with various\n",
    "# values of n_jobs and record the time it takes to do CV. We then plot a graph for n_jobs and time_taken to see the visuals.\n",
    "for job in jobs:\n",
    "    start = time()\n",
    "    rs_cv = RandomizedSearchCV(XGBRegressor(**fixed_params), variable_params, n_jobs=job, n_iter=70, cv=4, )\n",
    "    rs_cv.fit(X,y)\n",
    "    end = time()\n",
    "    time_taken.append(end-start)\n",
    "    \n",
    "plt.plot(jobs, time_taken)\n",
    "plt.xlabel('Number of CV Jobs')\n",
    "plt.ylabel('Time taken for CV(seconds)')"
   ]
  },
  {
   "cell_type": "code",
   "execution_count": 54,
   "metadata": {},
   "outputs": [
    {
     "name": "stdout",
     "output_type": "stream",
     "text": [
      "Best parameters are: {'subsamples': 0.5000000000000001, 'num_boost_round': 10, 'max_depth': 11, 'learning_rate': 0.2, 'alpha': 0.7000000000000001}\n",
      "Best score is: 0.7761735980232913\n"
     ]
    }
   ],
   "source": [
    "print ('Best parameters are:', rs_cv.best_params_)\n",
    "print ('Best score is:', np.sqrt(np.abs(rs_cv.best_score_)))"
   ]
  },
  {
   "cell_type": "markdown",
   "metadata": {},
   "source": [
    "# Number of Threads & Model Training Time Graph\n",
    "\n",
    "    - Here we try to find relationship b/w the time it takes to train the model as the number of threads for tree creation increase.\n",
    "    - We would use the hyper parameters which were identified in the sections above"
   ]
  },
  {
   "cell_type": "code",
   "execution_count": 55,
   "metadata": {},
   "outputs": [
    {
     "data": {
      "text/plain": [
       "Text(0, 0.5, 'Time Taken')"
      ]
     },
     "execution_count": 55,
     "metadata": {},
     "output_type": "execute_result"
    },
    {
     "data": {
      "image/png": "[encoded data removed]",
      "text/plain": [
       "<Figure size 432x288 with 1 Axes>"
      ]
     },
     "metadata": {
      "needs_background": "light"
     },
     "output_type": "display_data"
    }
   ],
   "source": [
    "from time import time\n",
    "\n",
    "num_threads = [1,2,3,4,5,6]\n",
    "\n",
    "time_taken  = []\n",
    "for thread in num_threads:\n",
    "    start = time()\n",
    "    xgb_reg = xb.XGBRegressor(max_depth=4, learning_rate=0.2, subsample=0.1, objective=\"reg:linear\", n_estimators=5, reg_alpha=0.7, nthread=thread)\n",
    "    model = xgb_reg.fit(X,y)\n",
    "    end = time()\n",
    "    time_taken.append(end-start)\n",
    "    \n",
    "plt.plot(num_threads, time_taken)\n",
    "plt.xlabel('Number of threads')\n",
    "plt.ylabel('Time Taken')"
   ]
  },
  {
   "cell_type": "code",
   "execution_count": null,
   "metadata": {},
   "outputs": [],
   "source": []
  },
  {
   "cell_type": "code",
   "execution_count": null,
   "metadata": {},
   "outputs": [],
   "source": []
  }
 ],
 "metadata": {
  "kernelspec": {
   "display_name": "Python 3",
   "language": "python",
   "name": "python3"
  },
  "language_info": {
   "codemirror_mode": {
    "name": "ipython",
    "version": 3
   },
   "file_extension": ".py",
   "mimetype": "text/x-python",
   "name": "python",
   "nbconvert_exporter": "python",
   "pygments_lexer": "ipython3",
   "version": "3.7.1"
  }
 },
 "nbformat": 4,
 "nbformat_minor": 2
}
